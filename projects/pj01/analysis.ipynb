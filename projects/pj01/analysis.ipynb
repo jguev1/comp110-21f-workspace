{
 "cells": [
  {
   "cell_type": "markdown",
   "source": [
    "__author__ = \"730328302\""
   ],
   "metadata": {}
  },
  {
   "cell_type": "code",
   "execution_count": 30,
   "source": [
    "%reload_ext autoreload\n",
    "%autoreload 2\n",
    "print(\"Autoreload of imported modules enabled. Be sure to save your work in other modules!\")"
   ],
   "outputs": [
    {
     "output_type": "stream",
     "name": "stdout",
     "text": [
      "Autoreload of imported modules enabled. Be sure to save your work in other modules!\n"
     ]
    }
   ],
   "metadata": {}
  },
  {
   "cell_type": "markdown",
   "source": [
    "# Hypothesis: There is a stronger correlation between the time lessons are completed and the percieved pace of the course than the time lessons are completed and the likelihood to reccomend the course."
   ],
   "metadata": {}
  },
  {
   "cell_type": "markdown",
   "source": [
    "First, I will establish a path to the data directory, and then to the survey data I am trying to access"
   ],
   "metadata": {}
  },
  {
   "cell_type": "code",
   "execution_count": 31,
   "source": [
    "DATA_DIRECTORY=\"../../data\"\n",
    "DATA_FILE_PATH=f\"{DATA_DIRECTORY}/survey.csv\""
   ],
   "outputs": [],
   "metadata": {}
  },
  {
   "cell_type": "markdown",
   "source": [
    "Then, I will read in the csv using the `read_csv_rows` function from `data_utils`. After that I will re-oriented the data from row-based to column-based using the function `columnar`, also from `data_utils`. \n",
    "\n",
    "`data_cols` refers to the data after it has been column-oriented."
   ],
   "metadata": {}
  },
  {
   "cell_type": "code",
   "execution_count": 63,
   "source": [
    "from data_utils import read_csv_rows, columnar, select\n",
    "\n",
    "data_in_rows: list[dict[str, str]] = read_csv_rows(DATA_FILE_PATH)\n",
    "data_cols: dict[str, list[str]] = columnar(data_in_rows)\n",
    "\n"
   ],
   "outputs": [],
   "metadata": {}
  },
  {
   "cell_type": "markdown",
   "source": [
    "Following that I will select the specific data I wish to be working with, (in this case, the `lesson_time`, `pace`, and `would_reccomend` columns) using the `select` function. \n",
    "\n",
    "Then, I will create a \"preview\" of the data to make sure it has been read and oriented correctly, and that the right columns have been selected. Using `tabulate` I will put the data in a table format."
   ],
   "metadata": {}
  },
  {
   "cell_type": "code",
   "execution_count": 83,
   "source": [
    "\n",
    "from data_utils import select, head\n",
    "from tabulate import tabulate\n",
    "selected_data: dict[str, list[str]] = select(data_cols, [\"lesson_time\", \"pace\", \"would_recommend\"])\n",
    "data_preview: dict[str, list[str]] = head(selected_data, 10)\n",
    "data_preview\n",
    "tabulate(data_preview, data_preview.keys(), \"html\")\n"
   ],
   "outputs": [
    {
     "output_type": "execute_result",
     "data": {
      "text/html": [
       "<table>\n",
       "<thead>\n",
       "<tr><th style=\"text-align: right;\">  lesson_time</th><th style=\"text-align: right;\">  pace</th><th style=\"text-align: right;\">  would_recommend</th></tr>\n",
       "</thead>\n",
       "<tbody>\n",
       "<tr><td style=\"text-align: right;\">            5</td><td style=\"text-align: right;\">     5</td><td style=\"text-align: right;\">                7</td></tr>\n",
       "<tr><td style=\"text-align: right;\">            4</td><td style=\"text-align: right;\">     5</td><td style=\"text-align: right;\">                7</td></tr>\n",
       "<tr><td style=\"text-align: right;\">            2</td><td style=\"text-align: right;\">     5</td><td style=\"text-align: right;\">                7</td></tr>\n",
       "<tr><td style=\"text-align: right;\">            2</td><td style=\"text-align: right;\">     6</td><td style=\"text-align: right;\">                7</td></tr>\n",
       "<tr><td style=\"text-align: right;\">            3</td><td style=\"text-align: right;\">     5</td><td style=\"text-align: right;\">                7</td></tr>\n",
       "<tr><td style=\"text-align: right;\">            6</td><td style=\"text-align: right;\">     5</td><td style=\"text-align: right;\">                4</td></tr>\n",
       "<tr><td style=\"text-align: right;\">            2</td><td style=\"text-align: right;\">     6</td><td style=\"text-align: right;\">                6</td></tr>\n",
       "<tr><td style=\"text-align: right;\">            7</td><td style=\"text-align: right;\">     5</td><td style=\"text-align: right;\">                4</td></tr>\n",
       "<tr><td style=\"text-align: right;\">            6</td><td style=\"text-align: right;\">     4</td><td style=\"text-align: right;\">                6</td></tr>\n",
       "<tr><td style=\"text-align: right;\">            2</td><td style=\"text-align: right;\">     7</td><td style=\"text-align: right;\">                5</td></tr>\n",
       "</tbody>\n",
       "</table>"
      ],
      "text/plain": [
       "'<table>\\n<thead>\\n<tr><th style=\"text-align: right;\">  lesson_time</th><th style=\"text-align: right;\">  pace</th><th style=\"text-align: right;\">  would_recommend</th></tr>\\n</thead>\\n<tbody>\\n<tr><td style=\"text-align: right;\">            5</td><td style=\"text-align: right;\">     5</td><td style=\"text-align: right;\">                7</td></tr>\\n<tr><td style=\"text-align: right;\">            4</td><td style=\"text-align: right;\">     5</td><td style=\"text-align: right;\">                7</td></tr>\\n<tr><td style=\"text-align: right;\">            2</td><td style=\"text-align: right;\">     5</td><td style=\"text-align: right;\">                7</td></tr>\\n<tr><td style=\"text-align: right;\">            2</td><td style=\"text-align: right;\">     6</td><td style=\"text-align: right;\">                7</td></tr>\\n<tr><td style=\"text-align: right;\">            3</td><td style=\"text-align: right;\">     5</td><td style=\"text-align: right;\">                7</td></tr>\\n<tr><td style=\"text-align: right;\">            6</td><td style=\"text-align: right;\">     5</td><td style=\"text-align: right;\">                4</td></tr>\\n<tr><td style=\"text-align: right;\">            2</td><td style=\"text-align: right;\">     6</td><td style=\"text-align: right;\">                6</td></tr>\\n<tr><td style=\"text-align: right;\">            7</td><td style=\"text-align: right;\">     5</td><td style=\"text-align: right;\">                4</td></tr>\\n<tr><td style=\"text-align: right;\">            6</td><td style=\"text-align: right;\">     4</td><td style=\"text-align: right;\">                6</td></tr>\\n<tr><td style=\"text-align: right;\">            2</td><td style=\"text-align: right;\">     7</td><td style=\"text-align: right;\">                5</td></tr>\\n</tbody>\\n</table>'"
      ]
     },
     "metadata": {},
     "execution_count": 83
    }
   ],
   "metadata": {}
  },
  {
   "cell_type": "markdown",
   "source": [
    "Then I will make some basic analysis of the data by finding the `mean`, `median`, `mode`, and  `standard deviation` of the three selected columns."
   ],
   "metadata": {}
  },
  {
   "cell_type": "code",
   "execution_count": null,
   "source": [],
   "outputs": [],
   "metadata": {}
  },
  {
   "cell_type": "markdown",
   "source": [
    "plot data"
   ],
   "metadata": {}
  },
  {
   "cell_type": "markdown",
   "source": [
    "calculate r"
   ],
   "metadata": {}
  },
  {
   "cell_type": "code",
   "execution_count": null,
   "source": [
    "conclusion"
   ],
   "outputs": [],
   "metadata": {}
  }
 ],
 "metadata": {
  "orig_nbformat": 4,
  "language_info": {
   "name": "python",
   "version": "3.9.6",
   "mimetype": "text/x-python",
   "codemirror_mode": {
    "name": "ipython",
    "version": 3
   },
   "pygments_lexer": "ipython3",
   "nbconvert_exporter": "python",
   "file_extension": ".py"
  },
  "kernelspec": {
   "name": "python3",
   "display_name": "Python 3.9.6 64-bit"
  },
  "interpreter": {
   "hash": "aee8b7b246df8f9039afb4144a1f6fd8d2ca17a180786b69acc140d282b71a49"
  }
 },
 "nbformat": 4,
 "nbformat_minor": 2
}