{
 "cells": [
  {
   "cell_type": "markdown",
   "source": [
    "# Project 1: COMP 110 Data Analysis\n",
    "__author__ = \"730328302\""
   ],
   "metadata": {}
  },
  {
   "cell_type": "code",
   "execution_count": 4,
   "source": [
    "%reload_ext autoreload\n",
    "%autoreload 2\n",
    "print(\"Autoreload of imported modules enabled. Be sure to save your work in other modules!\")"
   ],
   "outputs": [
    {
     "output_type": "stream",
     "name": "stdout",
     "text": [
      "Autoreload of imported modules enabled. Be sure to save your work in other modules!\n"
     ]
    }
   ],
   "metadata": {}
  },
  {
   "cell_type": "markdown",
   "source": [
    "# Hypothesis: \n",
    "## I believe that students who complete lessons on time are more likely to percieve the pace of the course as being slower than those who complete lessons later. Furthermore, I believe that how soon students complete lessons has very little to do with whether they will reccomend the class or not. Therefore, my hypothesis is:\n",
    "\n",
    "***How soon students complete the lessons is a better predictor of what the percieved pace of the class is, than it is of how likely students are to recommend the class.***"
   ],
   "metadata": {}
  },
  {
   "cell_type": "code",
   "execution_count": 5,
   "source": [
    "DATA_DIRECTORY=\"../../data\"\n",
    "DATA_FILE_PATH=f\"{DATA_DIRECTORY}/survey.csv\""
   ],
   "outputs": [],
   "metadata": {}
  },
  {
   "cell_type": "markdown",
   "source": [
    "### Then, I will read in the csv using the `read_csv_rows` function from `data_utils`. After that I will re-oriented the data from row-based to column-based using the function `columnar`, also from `data_utils`. \n",
    "\n",
    " Note: `data_cols` refers to the data after it has been column-oriented."
   ],
   "metadata": {}
  },
  {
   "cell_type": "code",
   "execution_count": 6,
   "source": [
    "from data_utils import read_csv_rows, columnar, select\n",
    "\n",
    "data_in_rows: list[dict[str, str]] = read_csv_rows(DATA_FILE_PATH)\n",
    "data_cols: dict[str, list[str]] = columnar(data_in_rows)\n",
    "\n"
   ],
   "outputs": [],
   "metadata": {}
  },
  {
   "cell_type": "markdown",
   "source": [
    "## Data Preview\n",
    "\n",
    "### Following that I will select the specific data I wish to be working with, (in this case, the `lesson_time`, `pace`, and `would_reccomend` columns) using the `select` function. \n",
    "\n",
    "### Then, I will create a \"preview\" of the data to make sure it has been read and oriented correctly, and that the right columns have been selected. Using `tabulate` I will put the data in a table format."
   ],
   "metadata": {}
  },
  {
   "cell_type": "code",
   "execution_count": 7,
   "source": [
    "\n",
    "from data_utils import select, head\n",
    "from tabulate import tabulate\n",
    "selected_data: dict[str, list[str]] = select(data_cols, [\"lesson_time\", \"pace\", \"would_recommend\"])\n",
    "data_preview: dict[str, list[str]] = head(selected_data, 10)\n",
    "data_preview\n",
    "tabulate(data_preview, data_preview.keys(), \"html\")\n"
   ],
   "outputs": [
    {
     "output_type": "execute_result",
     "data": {
      "text/html": [
       "<table>\n",
       "<thead>\n",
       "<tr><th style=\"text-align: right;\">  lesson_time</th><th style=\"text-align: right;\">  pace</th><th style=\"text-align: right;\">  would_recommend</th></tr>\n",
       "</thead>\n",
       "<tbody>\n",
       "<tr><td style=\"text-align: right;\">            5</td><td style=\"text-align: right;\">     5</td><td style=\"text-align: right;\">                7</td></tr>\n",
       "<tr><td style=\"text-align: right;\">            4</td><td style=\"text-align: right;\">     5</td><td style=\"text-align: right;\">                7</td></tr>\n",
       "<tr><td style=\"text-align: right;\">            2</td><td style=\"text-align: right;\">     5</td><td style=\"text-align: right;\">                7</td></tr>\n",
       "<tr><td style=\"text-align: right;\">            2</td><td style=\"text-align: right;\">     6</td><td style=\"text-align: right;\">                7</td></tr>\n",
       "<tr><td style=\"text-align: right;\">            3</td><td style=\"text-align: right;\">     5</td><td style=\"text-align: right;\">                7</td></tr>\n",
       "<tr><td style=\"text-align: right;\">            6</td><td style=\"text-align: right;\">     5</td><td style=\"text-align: right;\">                4</td></tr>\n",
       "<tr><td style=\"text-align: right;\">            2</td><td style=\"text-align: right;\">     6</td><td style=\"text-align: right;\">                6</td></tr>\n",
       "<tr><td style=\"text-align: right;\">            7</td><td style=\"text-align: right;\">     5</td><td style=\"text-align: right;\">                4</td></tr>\n",
       "<tr><td style=\"text-align: right;\">            6</td><td style=\"text-align: right;\">     4</td><td style=\"text-align: right;\">                6</td></tr>\n",
       "<tr><td style=\"text-align: right;\">            2</td><td style=\"text-align: right;\">     7</td><td style=\"text-align: right;\">                5</td></tr>\n",
       "</tbody>\n",
       "</table>"
      ],
      "text/plain": [
       "'<table>\\n<thead>\\n<tr><th style=\"text-align: right;\">  lesson_time</th><th style=\"text-align: right;\">  pace</th><th style=\"text-align: right;\">  would_recommend</th></tr>\\n</thead>\\n<tbody>\\n<tr><td style=\"text-align: right;\">            5</td><td style=\"text-align: right;\">     5</td><td style=\"text-align: right;\">                7</td></tr>\\n<tr><td style=\"text-align: right;\">            4</td><td style=\"text-align: right;\">     5</td><td style=\"text-align: right;\">                7</td></tr>\\n<tr><td style=\"text-align: right;\">            2</td><td style=\"text-align: right;\">     5</td><td style=\"text-align: right;\">                7</td></tr>\\n<tr><td style=\"text-align: right;\">            2</td><td style=\"text-align: right;\">     6</td><td style=\"text-align: right;\">                7</td></tr>\\n<tr><td style=\"text-align: right;\">            3</td><td style=\"text-align: right;\">     5</td><td style=\"text-align: right;\">                7</td></tr>\\n<tr><td style=\"text-align: right;\">            6</td><td style=\"text-align: right;\">     5</td><td style=\"text-align: right;\">                4</td></tr>\\n<tr><td style=\"text-align: right;\">            2</td><td style=\"text-align: right;\">     6</td><td style=\"text-align: right;\">                6</td></tr>\\n<tr><td style=\"text-align: right;\">            7</td><td style=\"text-align: right;\">     5</td><td style=\"text-align: right;\">                4</td></tr>\\n<tr><td style=\"text-align: right;\">            6</td><td style=\"text-align: right;\">     4</td><td style=\"text-align: right;\">                6</td></tr>\\n<tr><td style=\"text-align: right;\">            2</td><td style=\"text-align: right;\">     7</td><td style=\"text-align: right;\">                5</td></tr>\\n</tbody>\\n</table>'"
      ]
     },
     "metadata": {},
     "execution_count": 7
    }
   ],
   "metadata": {}
  },
  {
   "cell_type": "markdown",
   "source": [
    "To make things easier on my helper functions, I will first convert the data to float values."
   ],
   "metadata": {}
  },
  {
   "cell_type": "code",
   "execution_count": 103,
   "source": [
    "from data_utils import convert_to_float\n",
    "convert_to_float(selected_data[\"lesson_time\"])\n",
    "convert_to_float(selected_data[\"pace\"])\n",
    "convert_to_float(selected_data[\"would_recommend\"])\n",
    "print(\"values are now floats!\")\n"
   ],
   "outputs": [
    {
     "output_type": "stream",
     "name": "stdout",
     "text": [
      "values are now floats!\n"
     ]
    }
   ],
   "metadata": {}
  },
  {
   "cell_type": "markdown",
   "source": [
    "## Basic Analysis\n",
    "\n",
    "### Then I will make some basic analysis of the data by finding the `mean`, `median`, `mode`, and  `standard deviation` of the three selected columns, and organizing it into tables."
   ],
   "metadata": {}
  },
  {
   "cell_type": "code",
   "execution_count": 10,
   "source": [
    "from data_utils import mean, median, mode, std_dev\n",
    "from typing import Union\n",
    "\n",
    "lesson_time_analysis: dict[str, Union[float, list[float], str]] = {}\n",
    "pace_analysis: dict[str, Union[float, list[float], str]] = {}\n",
    "reccomend_analysis: dict[str, Union[float, list[float], str]] = {} \n",
    "\n",
    "lesson_time_analysis[\"mean\"] = (mean(selected_data[\"lesson_time\"]))\n",
    "lesson_time_analysis[\"median\"] = (median(selected_data[\"lesson_time\"]))\n",
    "lesson_time_analysis[\"mode\"] = mode(selected_data[\"lesson_time\"])\n",
    "lesson_time_analysis[\"standard dev\"] = (std_dev(selected_data[\"lesson_time\"]))\n",
    "\n",
    "pace_analysis[\"mean\"] = mean(selected_data[\"pace\"])\n",
    "pace_analysis[\"median\"] = median((selected_data[\"pace\"]))\n",
    "pace_analysis[\"mode\"] = mode(selected_data[\"pace\"])\n",
    "pace_analysis[\"standard dev\"] = std_dev(selected_data[\"pace\"])\n",
    "\n",
    "reccomend_analysis[\"mean\"] = mean(selected_data[\"would_recommend\"])\n",
    "reccomend_analysis[\"median\"] = median(selected_data[\"would_recommend\"])\n",
    "reccomend_analysis[\"mode\"] = mode(selected_data[\"would_recommend\"])\n",
    "reccomend_analysis[\"standard dev\"] = std_dev((selected_data[\"would_recommend\"]))\n",
    "\n",
    "\n",
    "print(f\" lesson time:     {lesson_time_analysis}\")\n",
    "print(f\" pace:            {pace_analysis}\")\n",
    "print(f\" would reccomend: {reccomend_analysis}\")"
   ],
   "outputs": [
    {
     "output_type": "stream",
     "name": "stdout",
     "text": [
      " lesson time:     {'mean': 4.523560209424084, 'median': 5.0, 'mode': ['6'], 'standard dev': 1.8419202363479432}\n",
      " pace:            {'mean': 5.2582897033158815, 'median': 5.0, 'mode': ['5'], 'standard dev': 1.077292190737214}\n",
      " would reccomend: {'mean': 5.481675392670157, 'median': 6.0, 'mode': ['7'], 'standard dev': 1.4507625725406679}\n"
     ]
    }
   ],
   "metadata": {}
  },
  {
   "cell_type": "markdown",
   "source": [
    "## Plotting Data"
   ],
   "metadata": {}
  },
  {
   "cell_type": "markdown",
   "source": [
    "### First I will compare the `pace` column to the `would_recommend` column by creating a scatterplot with the former as the x-axis and the latter as the y-axis. After that, I will calculate the correlation coefficient between the two variables using the function `r_values` I created in `data_utils`.\n",
    "\n",
    "Note: to be able to use the `r_values` function, I had to convert the data in the columns to floats using the `convert_to_float` function"
   ],
   "metadata": {}
  },
  {
   "cell_type": "code",
   "execution_count": 28,
   "source": [
    "import matplotlib.pyplot as plt\n",
    "from data_utils import convert_to_float\n",
    "x = convert_to_float(selected_data[\"lesson_time\"])\n",
    "y = convert_to_float(selected_data[\"pace\"])\n",
    "plt.scatter(x, y)\n",
    "plt.xlabel(\"How early do you complete lessons?\")\n",
    "plt.ylabel(\"What is your percieved class pace?\")\n",
    "plt.show()\n",
    "\n",
    "convert_to_float(selected_data[\"pace\"])\n",
    "convert_to_float(selected_data[\"would_recommend\"])\n",
    "\n",
    "correlation_coefficient: float = r_value(convert_to_float(selected_data[\"lesson_time\"]),convert_to_float(selected_data[\"pace\"]))\n",
    "\n",
    "print(f\"r is: {correlation_coefficient}\")"
   ],
   "outputs": [
    {
     "output_type": "display_data",
     "data": {
      "image/png": "[encoded data removed]",
      "text/plain": [
       "<Figure size 432x288 with 1 Axes>"
      ]
     },
     "metadata": {
      "needs_background": "light"
     }
    },
    {
     "output_type": "stream",
     "name": "stdout",
     "text": [
      "r is: -0.05564314246929406\n"
     ]
    }
   ],
   "metadata": {}
  },
  {
   "cell_type": "markdown",
   "source": [
    "### Then, I will compare the `lesson_time` column to the `would_recommend` column by creating a scatterplot with the former as the x-axis and the latter as the y-axis. After that, I will calculate the correlation coefficient between the two variables using the function `r_values` I created in `data_utils`."
   ],
   "metadata": {}
  },
  {
   "cell_type": "code",
   "execution_count": 27,
   "source": [
    "import matplotlib.pyplot as plt\n",
    "from data_utils import convert_to_float, r_value\n",
    "x = convert_to_float(selected_data[\"lesson_time\"])\n",
    "y = convert_to_float(selected_data[\"would_recommend\"])\n",
    "plt.scatter(x, y)\n",
    "plt.xlabel(\"How early do you complete lessons?\")\n",
    "plt.ylabel(\"How likely are you to reccomend this class?\")\n",
    "plt.show()\n",
    "\n",
    "convert_to_float(selected_data[\"lesson_time\"])\n",
    "convert_to_float(selected_data[\"would_recommend\"])\n",
    "\n",
    "correlation_coefficient_a: float = r_value(convert_to_float(selected_data[\"lesson_time\"]),convert_to_float(selected_data[\"would_recommend\"]))\n",
    "print(f\" r is {correlation_coefficient_a}\")"
   ],
   "outputs": [
    {
     "output_type": "display_data",
     "data": {
      "image/png": "[encoded data removed]",
      "text/plain": [
       "<Figure size 432x288 with 1 Axes>"
      ]
     },
     "metadata": {
      "needs_background": "light"
     }
    },
    {
     "output_type": "stream",
     "name": "stdout",
     "text": [
      " r is 0.01757980638427289\n"
     ]
    }
   ],
   "metadata": {}
  },
  {
   "cell_type": "markdown",
   "source": [
    "# Conclusion and Final Analysis\n",
    "\n",
    "### Seeing as the r value for case "
   ],
   "metadata": {}
  }
 ],
 "metadata": {
  "orig_nbformat": 4,
  "language_info": {
   "name": "python",
   "version": "3.9.6",
   "mimetype": "text/x-python",
   "codemirror_mode": {
    "name": "ipython",
    "version": 3
   },
   "pygments_lexer": "ipython3",
   "nbconvert_exporter": "python",
   "file_extension": ".py"
  },
  "kernelspec": {
   "name": "python3",
   "display_name": "Python 3.9.6 64-bit"
  },
  "interpreter": {
   "hash": "aee8b7b246df8f9039afb4144a1f6fd8d2ca17a180786b69acc140d282b71a49"
  }
 },
 "nbformat": 4,
 "nbformat_minor": 2
}